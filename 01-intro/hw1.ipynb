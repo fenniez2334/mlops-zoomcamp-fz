{
 "cells": [
  {
   "cell_type": "code",
   "execution_count": 11,
   "id": "0194b109-674c-4826-84ef-34faef4910b5",
   "metadata": {},
   "outputs": [],
   "source": [
    "import pandas as pd\n",
    "from sklearn.feature_extraction import DictVectorizer\n",
    "from sklearn.linear_model import LinearRegression\n",
    "from sklearn.metrics import mean_squared_error\n",
    "import numpy as np"
   ]
  },
  {
   "cell_type": "code",
   "execution_count": 12,
   "id": "607d66d0-2bc6-450c-a740-0f4747b933a9",
   "metadata": {},
   "outputs": [
    {
     "data": {
      "text/plain": [
       "'1.4.2'"
      ]
     },
     "execution_count": 12,
     "metadata": {},
     "output_type": "execute_result"
    }
   ],
   "source": [
    "pd.__version__"
   ]
  },
  {
   "cell_type": "code",
   "execution_count": 13,
   "id": "be13c495-d5f9-4b1c-93c4-479e323e23e5",
   "metadata": {},
   "outputs": [],
   "source": [
    "# Q1. Download the data for January and February 2023\n",
    "\n",
    "df1=pd.read_parquet('https://d37ci6vzurychx.cloudfront.net/trip-data/yellow_tripdata_2023-01.parquet')\n",
    "df2=pd.read_parquet('https://d37ci6vzurychx.cloudfront.net/trip-data/yellow_tripdata_2023-02.parquet')"
   ]
  },
  {
   "cell_type": "code",
   "execution_count": 14,
   "id": "879a7b71-e1ce-4ee6-95e8-b32faa7e0e56",
   "metadata": {},
   "outputs": [
    {
     "data": {
      "text/plain": [
       "19"
      ]
     },
     "execution_count": 14,
     "metadata": {},
     "output_type": "execute_result"
    }
   ],
   "source": [
    "# Read the data for January. How many columns are there? Answer: 19\n",
    "len(df1.columns)"
   ]
  },
  {
   "cell_type": "code",
   "execution_count": 15,
   "id": "405deba0",
   "metadata": {},
   "outputs": [],
   "source": [
    "# Create duration column\n",
    "df1['duration'] = df1.tpep_dropoff_datetime - df1.tpep_pickup_datetime\n",
    "df1.duration = df1.duration.apply(lambda td: td.total_seconds() / 60)"
   ]
  },
  {
   "cell_type": "code",
   "execution_count": 16,
   "id": "78eb3a7c",
   "metadata": {},
   "outputs": [
    {
     "name": "stdout",
     "output_type": "stream",
     "text": [
      "Standard Deviation of Duration: 42.594351241920904\n"
     ]
    }
   ],
   "source": [
    "# Calculate standard deviation\n",
    "std_duration = df1['duration'].std()\n",
    "\n",
    "# Q2: What's the standard deviation of the trips duration in January?\n",
    "# Answer: 42.59\n",
    "print(\"Standard Deviation of Duration:\", std_duration)"
   ]
  },
  {
   "cell_type": "code",
   "execution_count": 17,
   "id": "b27dcd0c",
   "metadata": {},
   "outputs": [],
   "source": [
    "df = df1[(df1.duration >= 1) & (df1.duration <= 60)]"
   ]
  },
  {
   "cell_type": "code",
   "execution_count": 18,
   "id": "b74ce85b",
   "metadata": {},
   "outputs": [
    {
     "name": "stdout",
     "output_type": "stream",
     "text": [
      "fraction of the records left after you dropped the outliers: 0.9812202822125979\n"
     ]
    }
   ],
   "source": [
    "# Q3: What fraction of the records left after you dropped the outliers?\n",
    "# Answer: 98%\n",
    "fraction = len(df) / len(df1)\n",
    "print(\"fraction of the records left after you dropped the outliers:\", fraction)"
   ]
  },
  {
   "cell_type": "code",
   "execution_count": 19,
   "id": "2eda900b",
   "metadata": {},
   "outputs": [],
   "source": [
    "categorical = ['PULocationID', 'DOLocationID']\n",
    "df = df.copy()\n",
    "df[categorical] = df[categorical].astype(str)"
   ]
  },
  {
   "cell_type": "code",
   "execution_count": 20,
   "id": "f4520251",
   "metadata": {},
   "outputs": [
    {
     "data": {
      "text/plain": [
       "[{'PULocationID': '161', 'DOLocationID': '141'},\n",
       " {'PULocationID': '43', 'DOLocationID': '237'},\n",
       " {'PULocationID': '48', 'DOLocationID': '238'},\n",
       " {'PULocationID': '138', 'DOLocationID': '7'},\n",
       " {'PULocationID': '107', 'DOLocationID': '79'}]"
      ]
     },
     "execution_count": 20,
     "metadata": {},
     "output_type": "execute_result"
    }
   ],
   "source": [
    "df[categorical][:5].to_dict(orient='records')"
   ]
  },
  {
   "cell_type": "code",
   "execution_count": 21,
   "id": "74294d82",
   "metadata": {},
   "outputs": [],
   "source": [
    "train_dicts = df[categorical].to_dict(orient='records')"
   ]
  },
  {
   "cell_type": "code",
   "execution_count": 22,
   "id": "5aecf2da",
   "metadata": {},
   "outputs": [],
   "source": [
    "dv = DictVectorizer()\n",
    "X_train = dv.fit_transform(train_dicts)"
   ]
  },
  {
   "cell_type": "code",
   "execution_count": 23,
   "id": "7ebbfcaf",
   "metadata": {},
   "outputs": [
    {
     "data": {
      "text/plain": [
       "(3009173, 515)"
      ]
     },
     "execution_count": 23,
     "metadata": {},
     "output_type": "execute_result"
    }
   ],
   "source": [
    "# Q4: apply one-hot encoding to the pickup and dropoff location IDs.\n",
    "X_train.shape\n",
    "\n",
    "# What's the dimensionality of this matrix (number of columns)?\n",
    "# answer: 515"
   ]
  },
  {
   "cell_type": "code",
   "execution_count": 24,
   "id": "d2732f07",
   "metadata": {},
   "outputs": [],
   "source": [
    "y_train = df['duration'].values\n",
    "\n",
    "lr = LinearRegression()\n",
    "lr.fit(X_train, y_train)\n",
    "\n",
    "y_pred = lr.predict(X_train)"
   ]
  },
  {
   "cell_type": "code",
   "execution_count": 25,
   "id": "4cb6a3ff",
   "metadata": {},
   "outputs": [
    {
     "name": "stdout",
     "output_type": "stream",
     "text": [
      "7.6492610279057605\n"
     ]
    }
   ],
   "source": [
    "# Q5: What's the RMSE on train?\n",
    "# Answer: 7.64\n",
    "rmse = np.sqrt(mean_squared_error(y_train, y_pred))\n",
    "print(rmse)"
   ]
  },
  {
   "cell_type": "code",
   "execution_count": 26,
   "id": "489721ac-a981-44f8-9d44-78ab397d7968",
   "metadata": {},
   "outputs": [],
   "source": [
    "def read_dataframe(filename):\n",
    "    if filename.endswith('.csv'):\n",
    "        df = pd.read_csv(filename)\n",
    "\n",
    "        df.tpep_dropoff_datetime = pd.to_datetime(df.tpep_dropoff_datetime)\n",
    "        df.tpep_pickup_datetime = pd.to_datetime(df.tpep_pickup_datetime)\n",
    "    elif filename.endswith('.parquet'):\n",
    "        df = pd.read_parquet(filename)\n",
    "\n",
    "    df['duration'] = df.tpep_dropoff_datetime - df.tpep_pickup_datetime\n",
    "    df.duration = df.duration.apply(lambda td: td.total_seconds() / 60)\n",
    "\n",
    "    df = df[(df.duration >= 1) & (df.duration <= 60)]\n",
    "\n",
    "    categorical = ['PULocationID', 'DOLocationID']\n",
    "    df[categorical] = df[categorical].astype(str)\n",
    "    \n",
    "    return df"
   ]
  },
  {
   "cell_type": "code",
   "execution_count": 27,
   "id": "664a523c",
   "metadata": {},
   "outputs": [],
   "source": [
    "df_val = read_dataframe('https://d37ci6vzurychx.cloudfront.net/trip-data/yellow_tripdata_2023-02.parquet')"
   ]
  },
  {
   "cell_type": "code",
   "execution_count": 28,
   "id": "3631a78f",
   "metadata": {},
   "outputs": [],
   "source": [
    "val_dicts = df_val[categorical].to_dict(orient='records')\n",
    "X_val = dv.transform(val_dicts)"
   ]
  },
  {
   "cell_type": "code",
   "execution_count": 30,
   "id": "b5f249b0",
   "metadata": {},
   "outputs": [],
   "source": [
    "y_val = df_val['duration'].values\n",
    "\n",
    "lr = LinearRegression()\n",
    "lr.fit(X_train, y_train)\n",
    "\n",
    "y_pred = lr.predict(X_val)"
   ]
  },
  {
   "cell_type": "code",
   "execution_count": 31,
   "id": "9ffd7bdb",
   "metadata": {},
   "outputs": [
    {
     "name": "stdout",
     "output_type": "stream",
     "text": [
      "7.81183265470218\n"
     ]
    }
   ],
   "source": [
    "# Q6: What's the RMSE on validation?\n",
    "# Answer: 7.81\n",
    "rmse = np.sqrt(mean_squared_error(y_val, y_pred))\n",
    "print(rmse)"
   ]
  },
  {
   "cell_type": "code",
   "execution_count": null,
   "id": "e63b715b",
   "metadata": {},
   "outputs": [],
   "source": []
  }
 ],
 "metadata": {
  "kernelspec": {
   "display_name": "Python 3 (ipykernel)",
   "language": "python",
   "name": "python3"
  },
  "language_info": {
   "codemirror_mode": {
    "name": "ipython",
    "version": 3
   },
   "file_extension": ".py",
   "mimetype": "text/x-python",
   "name": "python",
   "nbconvert_exporter": "python",
   "pygments_lexer": "ipython3",
   "version": "3.9.12"
  }
 },
 "nbformat": 4,
 "nbformat_minor": 5
}
