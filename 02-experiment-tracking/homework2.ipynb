{
 "cells": [
  {
   "cell_type": "code",
   "execution_count": null,
   "id": "b2bd82d7",
   "metadata": {},
   "outputs": [
    {
     "name": "stdout",
     "output_type": "stream",
     "text": [
      "Python 3.9.21\n",
      "mlflow, version 2.22.0\n"
     ]
    }
   ],
   "source": [
    "!python -V\n",
    "!mlflow --version\n",
    "# Q1: What's the version of mlflow?\n",
    "# answer: 2.22.0"
   ]
  },
  {
   "cell_type": "code",
   "execution_count": null,
   "id": "f84ba141",
   "metadata": {},
   "outputs": [],
   "source": [
    "# Q2: How many files were saved to OUTPUT_FOLDER?\n",
    "# answer: 4"
   ]
  },
  {
   "cell_type": "code",
   "execution_count": null,
   "id": "41e87e8d",
   "metadata": {},
   "outputs": [],
   "source": [
    "# Q3: What is the value of the min_samples_split parameter:\n",
    "# answer: 2  -- Default Value: Often set to 2 in Scikit-learn, meaning a split can occur if there are at least 2 samples."
   ]
  },
  {
   "cell_type": "code",
   "execution_count": null,
   "id": "56b05a69",
   "metadata": {},
   "outputs": [],
   "source": [
    "# Q4: In addition to backend-store-uri, what else do you need to pass to properly configure the server?\n",
    "# answer:\n",
    "# --default-artifact-root  -- This sets the location where MLflow will store the artifacts (like model files, metrics, etc.).\n",
    "\n",
    "\n",
    "# From https://stackoverflow.com/questions/75057477/mlflow-server-difference-between-default-artifact-root-and-artifacts\n",
    "# The --default-artifact-root is a directory for storing artifacts for every new experiment.\n",
    "# NOTE: The default value depend if the -serve-artifacts is enabled or not (mlflow-artifacts:/, ./mlruns)\n",
    "\n",
    "# --artifacts-destination is used to specify the location of artifacts in HTTP requests.\n",
    "# NOTE: This option only applies when the tracking server is configured to stream artifacts (--serve-artifacts is enabled) \n",
    "#       AND the experiment’s artifact root location is http or mlflow-artifacts URI"
   ]
  },
  {
   "cell_type": "code",
   "execution_count": null,
   "id": "fc007947",
   "metadata": {},
   "outputs": [],
   "source": [
    "# Q5: What's the best validation RMSE that you got?\n",
    "# answer: best loss: 5.335419588556921"
   ]
  },
  {
   "cell_type": "code",
   "execution_count": null,
   "id": "d9f84638",
   "metadata": {},
   "outputs": [],
   "source": [
    "# Q6: What is the test RMSE of the best model?\n",
    "# answer: Registered model from run ID bd0f5dfcc1d2452b89b439d07813541b with test RMSE: 5.567"
   ]
  }
 ],
 "metadata": {
  "kernelspec": {
   "display_name": "exp-tracking-env",
   "language": "python",
   "name": "python3"
  },
  "language_info": {
   "codemirror_mode": {
    "name": "ipython",
    "version": 3
   },
   "file_extension": ".py",
   "mimetype": "text/x-python",
   "name": "python",
   "nbconvert_exporter": "python",
   "pygments_lexer": "ipython3",
   "version": "3.9.21"
  }
 },
 "nbformat": 4,
 "nbformat_minor": 5
}
